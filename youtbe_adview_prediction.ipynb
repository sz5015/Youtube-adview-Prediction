{
 "cells": [
  {
   "cell_type": "markdown",
   "metadata": {
    "id": "4Alm2iqexufM"
   },
   "source": []
  },
  {
   "cell_type": "markdown",
   "metadata": {
    "id": "SVQ0HehIxwlt"
   },
   "source": [
    "Import relevant libraries\n"
   ]
  },
  {
   "cell_type": "code",
   "execution_count": 15,
   "metadata": {
    "id": "K137p0_Pxzi0"
   },
   "outputs": [],
   "source": [
    "import datetime\n",
    "import time\n",
    "import pandas as pd\n",
    "import numpy as np\n",
    "import matplotlib.cm as cm\n",
    "import matplotlib.pyplot as plt\n",
    "import seaborn as sns\n",
    "import joblib\n",
    "import keras\n",
    "from sklearn.preprocessing import LabelEncoder, MinMaxScaler\n",
    "from sklearn.model_selection import train_test_split\n",
    "from sklearn.metrics import mean_squared_error, mean_absolute_error, r2_score\n",
    "from sklearn.linear_model import LinearRegression\n",
    "from sklearn.svm import SVR\n",
    "from sklearn.tree import DecisionTreeRegressor\n",
    "from sklearn.ensemble import RandomForestRegressor\n",
    "from sklearn.model_selection import RandomizedSearchCV\n",
    "from google.colab import files"
   ]
  },
  {
   "cell_type": "markdown",
   "metadata": {
    "id": "JkQjmJDayKtX"
   },
   "source": []
  },
  {
   "cell_type": "markdown",
   "metadata": {
    "id": "y0bGgNy4yMUt"
   },
   "source": [
    " Read csv"
   ]
  },
  {
   "cell_type": "markdown",
   "metadata": {
    "id": "l6zU-FPQyaoN"
   },
   "source": [
    "Manually upload file after downloading from https://drive.google.com/file/d/1Dv-HF10AUUA03AO_cQvar462eXawk0iQ/view"
   ]
  },
  {
   "cell_type": "code",
   "execution_count": 16,
   "metadata": {
    "id": "nJQB7UE-y1Qd"
   },
   "outputs": [],
   "source": [
    "data = pd.read_csv('train.csv')\n",
    "test = pd.read_csv('test.csv')"
   ]
  },
  {
   "cell_type": "code",
   "execution_count": 17,
   "metadata": {
    "colab": {
     "base_uri": "https://localhost:8080/",
     "height": 423
    },
    "id": "CARqDFrV8HiO",
    "outputId": "570dddf0-bce4-4377-a639-9e96be8fef50"
   },
   "outputs": [
    {
     "data": {
      "text/html": [
       "\n",
       "  <div id=\"df-c68238a8-c8df-421f-88db-86c2b1d467b6\">\n",
       "    <div class=\"colab-df-container\">\n",
       "      <div>\n",
       "<style scoped>\n",
       "    .dataframe tbody tr th:only-of-type {\n",
       "        vertical-align: middle;\n",
       "    }\n",
       "\n",
       "    .dataframe tbody tr th {\n",
       "        vertical-align: top;\n",
       "    }\n",
       "\n",
       "    .dataframe thead th {\n",
       "        text-align: right;\n",
       "    }\n",
       "</style>\n",
       "<table border=\"1\" class=\"dataframe\">\n",
       "  <thead>\n",
       "    <tr style=\"text-align: right;\">\n",
       "      <th></th>\n",
       "      <th>vidid</th>\n",
       "      <th>adview</th>\n",
       "      <th>views</th>\n",
       "      <th>likes</th>\n",
       "      <th>dislikes</th>\n",
       "      <th>comment</th>\n",
       "      <th>published</th>\n",
       "      <th>duration</th>\n",
       "      <th>category</th>\n",
       "    </tr>\n",
       "  </thead>\n",
       "  <tbody>\n",
       "    <tr>\n",
       "      <th>0</th>\n",
       "      <td>VID_18655</td>\n",
       "      <td>40</td>\n",
       "      <td>1031602</td>\n",
       "      <td>8523</td>\n",
       "      <td>363</td>\n",
       "      <td>1095</td>\n",
       "      <td>2016-09-14</td>\n",
       "      <td>PT7M37S</td>\n",
       "      <td>F</td>\n",
       "    </tr>\n",
       "    <tr>\n",
       "      <th>1</th>\n",
       "      <td>VID_14135</td>\n",
       "      <td>2</td>\n",
       "      <td>1707</td>\n",
       "      <td>56</td>\n",
       "      <td>2</td>\n",
       "      <td>6</td>\n",
       "      <td>2016-10-01</td>\n",
       "      <td>PT9M30S</td>\n",
       "      <td>D</td>\n",
       "    </tr>\n",
       "    <tr>\n",
       "      <th>2</th>\n",
       "      <td>VID_2187</td>\n",
       "      <td>1</td>\n",
       "      <td>2023</td>\n",
       "      <td>25</td>\n",
       "      <td>0</td>\n",
       "      <td>2</td>\n",
       "      <td>2016-07-02</td>\n",
       "      <td>PT2M16S</td>\n",
       "      <td>C</td>\n",
       "    </tr>\n",
       "    <tr>\n",
       "      <th>3</th>\n",
       "      <td>VID_23096</td>\n",
       "      <td>6</td>\n",
       "      <td>620860</td>\n",
       "      <td>777</td>\n",
       "      <td>161</td>\n",
       "      <td>153</td>\n",
       "      <td>2016-07-27</td>\n",
       "      <td>PT4M22S</td>\n",
       "      <td>H</td>\n",
       "    </tr>\n",
       "    <tr>\n",
       "      <th>4</th>\n",
       "      <td>VID_10175</td>\n",
       "      <td>1</td>\n",
       "      <td>666</td>\n",
       "      <td>1</td>\n",
       "      <td>0</td>\n",
       "      <td>0</td>\n",
       "      <td>2016-06-29</td>\n",
       "      <td>PT31S</td>\n",
       "      <td>D</td>\n",
       "    </tr>\n",
       "    <tr>\n",
       "      <th>...</th>\n",
       "      <td>...</td>\n",
       "      <td>...</td>\n",
       "      <td>...</td>\n",
       "      <td>...</td>\n",
       "      <td>...</td>\n",
       "      <td>...</td>\n",
       "      <td>...</td>\n",
       "      <td>...</td>\n",
       "      <td>...</td>\n",
       "    </tr>\n",
       "    <tr>\n",
       "      <th>14994</th>\n",
       "      <td>VID_31</td>\n",
       "      <td>2</td>\n",
       "      <td>525949</td>\n",
       "      <td>1137</td>\n",
       "      <td>83</td>\n",
       "      <td>86</td>\n",
       "      <td>2015-05-18</td>\n",
       "      <td>PT6M10S</td>\n",
       "      <td>A</td>\n",
       "    </tr>\n",
       "    <tr>\n",
       "      <th>14995</th>\n",
       "      <td>VID_5861</td>\n",
       "      <td>1</td>\n",
       "      <td>665673</td>\n",
       "      <td>3849</td>\n",
       "      <td>156</td>\n",
       "      <td>569</td>\n",
       "      <td>2015-10-20</td>\n",
       "      <td>PT3M56S</td>\n",
       "      <td>D</td>\n",
       "    </tr>\n",
       "    <tr>\n",
       "      <th>14996</th>\n",
       "      <td>VID_805</td>\n",
       "      <td>4</td>\n",
       "      <td>3479</td>\n",
       "      <td>16</td>\n",
       "      <td>1</td>\n",
       "      <td>1</td>\n",
       "      <td>2013-08-23</td>\n",
       "      <td>PT3M13S</td>\n",
       "      <td>B</td>\n",
       "    </tr>\n",
       "    <tr>\n",
       "      <th>14997</th>\n",
       "      <td>VID_19843</td>\n",
       "      <td>1</td>\n",
       "      <td>963</td>\n",
       "      <td>0</td>\n",
       "      <td>0</td>\n",
       "      <td>0</td>\n",
       "      <td>2010-10-02</td>\n",
       "      <td>PT26S</td>\n",
       "      <td>G</td>\n",
       "    </tr>\n",
       "    <tr>\n",
       "      <th>14998</th>\n",
       "      <td>VID_8534</td>\n",
       "      <td>1</td>\n",
       "      <td>15212</td>\n",
       "      <td>22</td>\n",
       "      <td>5</td>\n",
       "      <td>4</td>\n",
       "      <td>2016-02-19</td>\n",
       "      <td>PT1M1S</td>\n",
       "      <td>D</td>\n",
       "    </tr>\n",
       "  </tbody>\n",
       "</table>\n",
       "<p>14999 rows × 9 columns</p>\n",
       "</div>\n",
       "      <button class=\"colab-df-convert\" onclick=\"convertToInteractive('df-c68238a8-c8df-421f-88db-86c2b1d467b6')\"\n",
       "              title=\"Convert this dataframe to an interactive table.\"\n",
       "              style=\"display:none;\">\n",
       "        \n",
       "  <svg xmlns=\"http://www.w3.org/2000/svg\" height=\"24px\"viewBox=\"0 0 24 24\"\n",
       "       width=\"24px\">\n",
       "    <path d=\"M0 0h24v24H0V0z\" fill=\"none\"/>\n",
       "    <path d=\"M18.56 5.44l.94 2.06.94-2.06 2.06-.94-2.06-.94-.94-2.06-.94 2.06-2.06.94zm-11 1L8.5 8.5l.94-2.06 2.06-.94-2.06-.94L8.5 2.5l-.94 2.06-2.06.94zm10 10l.94 2.06.94-2.06 2.06-.94-2.06-.94-.94-2.06-.94 2.06-2.06.94z\"/><path d=\"M17.41 7.96l-1.37-1.37c-.4-.4-.92-.59-1.43-.59-.52 0-1.04.2-1.43.59L10.3 9.45l-7.72 7.72c-.78.78-.78 2.05 0 2.83L4 21.41c.39.39.9.59 1.41.59.51 0 1.02-.2 1.41-.59l7.78-7.78 2.81-2.81c.8-.78.8-2.07 0-2.86zM5.41 20L4 18.59l7.72-7.72 1.47 1.35L5.41 20z\"/>\n",
       "  </svg>\n",
       "      </button>\n",
       "      \n",
       "  <style>\n",
       "    .colab-df-container {\n",
       "      display:flex;\n",
       "      flex-wrap:wrap;\n",
       "      gap: 12px;\n",
       "    }\n",
       "\n",
       "    .colab-df-convert {\n",
       "      background-color: #E8F0FE;\n",
       "      border: none;\n",
       "      border-radius: 50%;\n",
       "      cursor: pointer;\n",
       "      display: none;\n",
       "      fill: #1967D2;\n",
       "      height: 32px;\n",
       "      padding: 0 0 0 0;\n",
       "      width: 32px;\n",
       "    }\n",
       "\n",
       "    .colab-df-convert:hover {\n",
       "      background-color: #E2EBFA;\n",
       "      box-shadow: 0px 1px 2px rgba(60, 64, 67, 0.3), 0px 1px 3px 1px rgba(60, 64, 67, 0.15);\n",
       "      fill: #174EA6;\n",
       "    }\n",
       "\n",
       "    [theme=dark] .colab-df-convert {\n",
       "      background-color: #3B4455;\n",
       "      fill: #D2E3FC;\n",
       "    }\n",
       "\n",
       "    [theme=dark] .colab-df-convert:hover {\n",
       "      background-color: #434B5C;\n",
       "      box-shadow: 0px 1px 3px 1px rgba(0, 0, 0, 0.15);\n",
       "      filter: drop-shadow(0px 1px 2px rgba(0, 0, 0, 0.3));\n",
       "      fill: #FFFFFF;\n",
       "    }\n",
       "  </style>\n",
       "\n",
       "      <script>\n",
       "        const buttonEl =\n",
       "          document.querySelector('#df-c68238a8-c8df-421f-88db-86c2b1d467b6 button.colab-df-convert');\n",
       "        buttonEl.style.display =\n",
       "          google.colab.kernel.accessAllowed ? 'block' : 'none';\n",
       "\n",
       "        async function convertToInteractive(key) {\n",
       "          const element = document.querySelector('#df-c68238a8-c8df-421f-88db-86c2b1d467b6');\n",
       "          const dataTable =\n",
       "            await google.colab.kernel.invokeFunction('convertToInteractive',\n",
       "                                                     [key], {});\n",
       "          if (!dataTable) return;\n",
       "\n",
       "          const docLinkHtml = 'Like what you see? Visit the ' +\n",
       "            '<a target=\"_blank\" href=https://colab.research.google.com/notebooks/data_table.ipynb>data table notebook</a>'\n",
       "            + ' to learn more about interactive tables.';\n",
       "          element.innerHTML = '';\n",
       "          dataTable['output_type'] = 'display_data';\n",
       "          await google.colab.output.renderOutput(dataTable, element);\n",
       "          const docLink = document.createElement('div');\n",
       "          docLink.innerHTML = docLinkHtml;\n",
       "          element.appendChild(docLink);\n",
       "        }\n",
       "      </script>\n",
       "    </div>\n",
       "  </div>\n",
       "  "
      ],
      "text/plain": [
       "           vidid  adview    views likes  ... comment   published duration category\n",
       "0      VID_18655      40  1031602  8523  ...    1095  2016-09-14  PT7M37S        F\n",
       "1      VID_14135       2     1707    56  ...       6  2016-10-01  PT9M30S        D\n",
       "2       VID_2187       1     2023    25  ...       2  2016-07-02  PT2M16S        C\n",
       "3      VID_23096       6   620860   777  ...     153  2016-07-27  PT4M22S        H\n",
       "4      VID_10175       1      666     1  ...       0  2016-06-29    PT31S        D\n",
       "...          ...     ...      ...   ...  ...     ...         ...      ...      ...\n",
       "14994     VID_31       2   525949  1137  ...      86  2015-05-18  PT6M10S        A\n",
       "14995   VID_5861       1   665673  3849  ...     569  2015-10-20  PT3M56S        D\n",
       "14996    VID_805       4     3479    16  ...       1  2013-08-23  PT3M13S        B\n",
       "14997  VID_19843       1      963     0  ...       0  2010-10-02    PT26S        G\n",
       "14998   VID_8534       1    15212    22  ...       4  2016-02-19   PT1M1S        D\n",
       "\n",
       "[14999 rows x 9 columns]"
      ]
     },
     "execution_count": 17,
     "metadata": {},
     "output_type": "execute_result"
    }
   ],
   "source": [
    "data"
   ]
  },
  {
   "cell_type": "markdown",
   "metadata": {
    "id": "JcjOppsW8MmR"
   },
   "source": [
    "Preprocessing"
   ]
  },
  {
   "cell_type": "code",
   "execution_count": 18,
   "metadata": {
    "id": "hmLayCku8WPw"
   },
   "outputs": [],
   "source": [
    "categories = {\"A\": 1, \"B\": 2, \"C\": 3, \"D\": 4, \"E\": 5, \"F\": 6, \"G\": 7, \"H\": 8}\n",
    "\n",
    "data[\"category\"] = data[\"category\"].map(categories)\n",
    "test[\"category\"] = test[\"category\"].map(categories)"
   ]
  },
  {
   "cell_type": "code",
   "execution_count": 19,
   "metadata": {
    "colab": {
     "base_uri": "https://localhost:8080/"
    },
    "id": "4eA416rH8qzx",
    "outputId": "c4b2b225-0db7-49a6-a679-3408e6544e1e"
   },
   "outputs": [
    {
     "name": "stderr",
     "output_type": "stream",
     "text": [
      "/usr/local/lib/python3.7/dist-packages/ipykernel_launcher.py:14: SettingWithCopyWarning: \n",
      "A value is trying to be set on a copy of a slice from a DataFrame.\n",
      "Try using .loc[row_indexer,col_indexer] = value instead\n",
      "\n",
      "See the caveats in the documentation: https://pandas.pydata.org/pandas-docs/stable/user_guide/indexing.html#returning-a-view-versus-a-copy\n",
      "  \n"
     ]
    }
   ],
   "source": [
    "for e in [\"views\", \"likes\", \"dislikes\", \"comment\"]:\n",
    "    data = data[data[e] != \"F\"]\n",
    "    for i in range(len(test)):\n",
    "        if test[e][i]=='F':\n",
    "            test.loc[i, e] = '0'\n",
    "\n",
    "for e in [\"views\", \"likes\", \"dislikes\", \"comment\", \"adview\"]:\n",
    "    data[e] = pd.to_numeric(data[e])\n",
    "    if e != 'adview':\n",
    "        test[e] = pd.to_numeric(test[e])\n",
    "\n",
    "data = data[data[\"adview\"] < 2000000]\n",
    "\n",
    "data[\"published\"] = LabelEncoder().fit_transform(data[\"published\"])\n",
    "test[\"published\"] = LabelEncoder().fit_transform(test[\"published\"])"
   ]
  },
  {
   "cell_type": "code",
   "execution_count": 20,
   "metadata": {
    "id": "ilOpBaAC87WU"
   },
   "outputs": [],
   "source": [
    "def checki(x):\n",
    "    y = x[2:]\n",
    "    h, m, s, mm = \"\", \"\", \"\", \"\"\n",
    "    P = [\"H\", \"M\", \"S\"]\n",
    "    for i in y:\n",
    "        if i not in P:\n",
    "            mm += i\n",
    "        else:\n",
    "            if i == P[0]:\n",
    "                h = mm\n",
    "                mm = \"\"\n",
    "            elif i == P[1]:\n",
    "                m = mm\n",
    "                mm = \"\"\n",
    "            else:\n",
    "                s = mm\n",
    "                mm = \"\"\n",
    "    if h == \"\":\n",
    "        h = \"00\"\n",
    "    if m == \"\":\n",
    "        m = \"00\"\n",
    "    if s == \"\":\n",
    "        s = \"00\"\n",
    "    bp = h + \":\" + m + \":\" + s\n",
    "    return bp"
   ]
  },
  {
   "cell_type": "code",
   "execution_count": 21,
   "metadata": {
    "id": "HJxol0i39OkO"
   },
   "outputs": [],
   "source": [
    "def func_sec(time_str):\n",
    "    h, m, s = time_str.split(\":\")\n",
    "    return int(h) * 3600 + int(m) * 60 + int(s)"
   ]
  },
  {
   "cell_type": "code",
   "execution_count": 22,
   "metadata": {
    "colab": {
     "base_uri": "https://localhost:8080/"
    },
    "id": "T61_VzbK9VTR",
    "outputId": "d73186d4-5b9e-4cc0-ab27-30f5227fae2d"
   },
   "outputs": [
    {
     "name": "stderr",
     "output_type": "stream",
     "text": [
      "/usr/local/lib/python3.7/dist-packages/ipykernel_launcher.py:1: SettingWithCopyWarning: \n",
      "A value is trying to be set on a copy of a slice from a DataFrame.\n",
      "Try using .loc[row_indexer,col_indexer] = value instead\n",
      "\n",
      "See the caveats in the documentation: https://pandas.pydata.org/pandas-docs/stable/user_guide/indexing.html#returning-a-view-versus-a-copy\n",
      "  \"\"\"Entry point for launching an IPython kernel.\n"
     ]
    }
   ],
   "source": [
    "data[\"duration\"] = data[\"duration\"].apply(checki).apply(func_sec)\n",
    "test[\"duration\"] = test[\"duration\"].apply(checki).apply(func_sec)"
   ]
  },
  {
   "cell_type": "markdown",
   "metadata": {
    "id": "E7OmiG7d9cmA"
   },
   "source": [
    "Visualize correlation"
   ]
  },
  {
   "cell_type": "code",
   "execution_count": 23,
   "metadata": {
    "colab": {
     "base_uri": "https://localhost:8080/",
     "height": 619
    },
    "id": "rsEIiW2X9eW7",
    "outputId": "0ba11383-8745-46af-d151-39a5444239be"
   },
   "outputs": [
    {
     "data": {
      "text/plain": [
       "[]"
      ]
     },
     "execution_count": 23,
     "metadata": {},
     "output_type": "execute_result"
    },
    {
     "data": {
      "image/png": "[encoded data removed]",
      "text/plain": [
       "<Figure size 864x720 with 6 Axes>"
      ]
     },
     "metadata": {
      "needs_background": "light"
     },
     "output_type": "display_data"
    }
   ],
   "source": [
    "fig, axs = plt.subplots(2, 3, figsize=(12, 10))\n",
    "axs[0, 0].scatter(data[\"duration\"], data[\"adview\"], s=2)\n",
    "axs[0, 1].scatter(data[\"views\"], data[\"adview\"], s=2)\n",
    "axs[0, 2].scatter(data[\"likes\"], data[\"adview\"], s=2)\n",
    "axs[1, 0].scatter(data[\"dislikes\"], data[\"adview\"], s=2)\n",
    "axs[1, 1].scatter(data[\"comment\"], data[\"adview\"], s=2)\n",
    "axs[1, 2].scatter(data[\"category\"], data[\"adview\"], s=2)\n",
    "plt.plot()"
   ]
  },
  {
   "cell_type": "code",
   "execution_count": 24,
   "metadata": {
    "colab": {
     "base_uri": "https://localhost:8080/",
     "height": 487
    },
    "id": "rczwC6oO9qAV",
    "outputId": "731c37c7-ea66-450f-f1c2-1e828f917f2b"
   },
   "outputs": [
    {
     "data": {
      "image/png": "[encoded data removed]",
      "text/plain": [
       "<Figure size 720x576 with 2 Axes>"
      ]
     },
     "metadata": {
      "needs_background": "light"
     },
     "output_type": "display_data"
    }
   ],
   "source": [
    "f, ax = plt.subplots(figsize=(10, 8))\n",
    "corr = data.corr()\n",
    "sns.heatmap(corr, mask=np.zeros_like(corr, dtype=np.bool), cmap=sns.diverging_palette(220, 10, as_cmap=True),\n",
    "square=True, ax=ax,annot=True)\n",
    "plt.show()"
   ]
  },
  {
   "cell_type": "markdown",
   "metadata": {
    "id": "YnClJ1s593Ua"
   },
   "source": [
    "Prepare for input to model"
   ]
  },
  {
   "cell_type": "code",
   "execution_count": 25,
   "metadata": {
    "id": "568_GszY94up"
   },
   "outputs": [],
   "source": [
    "Y = pd.DataFrame(data.iloc[:, 1].values, columns=[\"target\"])\n",
    "test_y = pd.DataFrame(test.iloc[:, 0].values, columns=['vidid'])\n",
    "data = data.drop([\"adview\", \"vidid\"], axis=1)\n",
    "test = test.drop(['vidid'], axis=1)"
   ]
  },
  {
   "cell_type": "code",
   "execution_count": 26,
   "metadata": {
    "id": "P7D4WqC0-JDg"
   },
   "outputs": [],
   "source": [
    "X_train, X_val, y_train, y_val = train_test_split(\n",
    "    data, Y, test_size=0.1, random_state=42\n",
    ")\n",
    "y_train = y_train.to_numpy().ravel()\n",
    "y_val = y_val.to_numpy().ravel()"
   ]
  },
  {
   "cell_type": "code",
   "execution_count": 27,
   "metadata": {
    "id": "OnVbhs6R-PVF"
   },
   "outputs": [],
   "source": [
    "sc_X = MinMaxScaler()\n",
    "X_train = sc_X.fit_transform(X_train)\n",
    "X_val = sc_X.transform(X_val)\n",
    "test = sc_X.transform(test)"
   ]
  },
  {
   "cell_type": "markdown",
   "metadata": {
    "id": "ULCJLSmz-mGq"
   },
   "source": [
    "Test on models"
   ]
  },
  {
   "cell_type": "code",
   "execution_count": 28,
   "metadata": {
    "id": "O6y59eKO-qfC"
   },
   "outputs": [],
   "source": [
    "def evaluate(X_val, y_val, model):\n",
    "    y_preds = model.predict(X_val)\n",
    "    print(\"MSE : \", mean_squared_error(y_val, y_preds))\n",
    "    print(\"R^2 : \", r2_score(y_val, y_preds))\n",
    "    plt.figure(figsize=(16, 8))\n",
    "    plt.scatter(range(len(y_preds)), y_preds, color='blue', s=1)\n",
    "    plt.scatter(range(len(y_val)), y_val, color='red', s=1)\n",
    "    plt.show()"
   ]
  },
  {
   "cell_type": "markdown",
   "metadata": {
    "id": "1di3DwFt-0XJ"
   },
   "source": [
    "Linear Regression"
   ]
  },
  {
   "cell_type": "code",
   "execution_count": 29,
   "metadata": {
    "colab": {
     "base_uri": "https://localhost:8080/",
     "height": 489
    },
    "id": "b7BaG0sd-4bA",
    "outputId": "8271ff91-ec89-4186-fd4f-845fc73c164d"
   },
   "outputs": [
    {
     "name": "stdout",
     "output_type": "stream",
     "text": [
      "Linear Regression\n",
      "MSE :  104797222.51814939\n",
      "R^2 :  -0.022721187595377\n"
     ]
    },
    {
     "data": {
      "image/png": "[encoded data removed]",
      "text/plain": [
       "<Figure size 1152x576 with 1 Axes>"
      ]
     },
     "metadata": {
      "needs_background": "light"
     },
     "output_type": "display_data"
    }
   ],
   "source": [
    "linear_regression = LinearRegression()\n",
    "linear_regression.fit(X_train, y_train)\n",
    "print(\"Linear Regression\")\n",
    "evaluate(X_val, y_val, linear_regression)"
   ]
  },
  {
   "cell_type": "markdown",
   "metadata": {
    "id": "0jK9rgN8_HJx"
   },
   "source": [
    "SVR"
   ]
  },
  {
   "cell_type": "code",
   "execution_count": 30,
   "metadata": {
    "colab": {
     "base_uri": "https://localhost:8080/",
     "height": 489
    },
    "id": "IcOvcywM_I8I",
    "outputId": "c87c6abd-54a6-4172-d2ea-0c6a82655551"
   },
   "outputs": [
    {
     "name": "stdout",
     "output_type": "stream",
     "text": [
      "SVR\n",
      "MSE :  103562575.41575138\n",
      "R^2 :  -0.010672206520453864\n"
     ]
    },
    {
     "data": {
      "image/png": "[encoded data removed]",
      "text/plain": [
       "<Figure size 1152x576 with 1 Axes>"
      ]
     },
     "metadata": {
      "needs_background": "light"
     },
     "output_type": "display_data"
    }
   ],
   "source": [
    "svr_model = SVR()\n",
    "svr_model.fit(X_train, y_train)\n",
    "print(\"SVR\")\n",
    "evaluate(X_val, y_val, svr_model)"
   ]
  },
  {
   "cell_type": "markdown",
   "metadata": {
    "id": "9GC_lX-c_X83"
   },
   "source": [
    "Decision Tree"
   ]
  },
  {
   "cell_type": "code",
   "execution_count": 31,
   "metadata": {
    "colab": {
     "base_uri": "https://localhost:8080/",
     "height": 489
    },
    "id": "ChX66WV2ARjK",
    "outputId": "28462a99-5c1d-43cb-9325-bac10dc5c92e"
   },
   "outputs": [
    {
     "name": "stdout",
     "output_type": "stream",
     "text": [
      "Decision Tree\n",
      "MSE :  216164871.43237704\n",
      "R^2 :  -1.1095634857062682\n"
     ]
    },
    {
     "data": {
      "image/png": "[encoded data removed]",
      "text/plain": [
       "<Figure size 1152x576 with 1 Axes>"
      ]
     },
     "metadata": {
      "needs_background": "light"
     },
     "output_type": "display_data"
    }
   ],
   "source": [
    "dt_model = DecisionTreeRegressor()\n",
    "dt_model.fit(X_train, y_train)\n",
    "print(\"Decision Tree\")\n",
    "evaluate(X_val, y_val, dt_model)"
   ]
  },
  {
   "cell_type": "markdown",
   "metadata": {
    "id": "TxSFIVTIAr5q"
   },
   "source": [
    "Random Forest"
   ]
  },
  {
   "cell_type": "code",
   "execution_count": 32,
   "metadata": {
    "colab": {
     "base_uri": "https://localhost:8080/",
     "height": 489
    },
    "id": "qMydzoJIAud-",
    "outputId": "e7dd82b9-a11d-43b4-feb5-dc6a39d30f1c"
   },
   "outputs": [
    {
     "name": "stdout",
     "output_type": "stream",
     "text": [
      "Random Forest\n",
      "MSE :  195972624.99763873\n",
      "R^2 :  -0.9125063714265682\n"
     ]
    },
    {
     "data": {
      "image/png": "[encoded data removed]",
      "text/plain": [
       "<Figure size 1152x576 with 1 Axes>"
      ]
     },
     "metadata": {
      "needs_background": "light"
     },
     "output_type": "display_data"
    }
   ],
   "source": [
    "rf_model = RandomForestRegressor()\n",
    "rf_model.fit(X_train, y_train)\n",
    "print(\"Random Forest\")\n",
    "evaluate(X_val, y_val, rf_model)"
   ]
  },
  {
   "cell_type": "markdown",
   "metadata": {
    "id": "iZghCqraBJrb"
   },
   "source": [
    "Random Forest w/ Hyperparameter tuning"
   ]
  },
  {
   "cell_type": "code",
   "execution_count": 33,
   "metadata": {
    "id": "YkrvjRBhBK-r"
   },
   "outputs": [],
   "source": [
    "n_estimators = [int(x) for x in np.linspace(50, 300, num = 10)]\n",
    "max_features = ['auto', 'sqrt']\n",
    "max_depth = [int(x) for x in np.linspace(1, 60, num = 5)]\n",
    "min_samples_split = [5, 10]\n",
    "\n",
    "random_grid = {'n_estimators': n_estimators,\n",
    "               'max_features': max_features,\n",
    "               'max_depth': max_depth,\n",
    "               'min_samples_split': min_samples_split}"
   ]
  },
  {
   "cell_type": "code",
   "execution_count": 34,
   "metadata": {
    "colab": {
     "base_uri": "https://localhost:8080/",
     "height": 555
    },
    "id": "-CrxtZmlBapQ",
    "outputId": "676b7d13-4892-4b7e-cf25-8f43ebaf8f71"
   },
   "outputs": [
    {
     "name": "stdout",
     "output_type": "stream",
     "text": [
      "Fitting 10 folds for each of 20 candidates, totalling 200 fits\n",
      "MSE :  151867580.22102645\n",
      "R^2 :  -0.48208309599031063\n"
     ]
    },
    {
     "data": {
      "image/png": "[encoded data removed]",
      "text/plain": [
       "<Figure size 1152x576 with 1 Axes>"
      ]
     },
     "metadata": {
      "needs_background": "light"
     },
     "output_type": "display_data"
    }
   ],
   "source": [
    "rf_random = RandomizedSearchCV(estimator=rf_model, param_distributions = random_grid, n_iter = 20, cv = 10, n_jobs=-1, verbose=2, scoring='neg_mean_squared_error')\n",
    "rf_random.fit(X_train, y_train)\n",
    "evaluate(X_val, y_val, rf_random.best_estimator_)"
   ]
  },
  {
   "cell_type": "markdown",
   "metadata": {
    "id": "RHTwkHZqGuJc"
   },
   "source": [
    "Neural Network"
   ]
  },
  {
   "cell_type": "code",
   "execution_count": 35,
   "metadata": {
    "id": "0Fs7owbvGyQF"
   },
   "outputs": [],
   "source": [
    "nn_model = keras.models.Sequential([\n",
    "                keras.layers.Dense(16, input_shape=(7,), activation='relu'),\n",
    "                keras.layers.Dropout(0.2),\n",
    "                keras.layers.Dense(16, activation='relu'),\n",
    "                keras.layers.Dropout(0.2),\n",
    "                keras.layers.Dense(8, activation='relu'),\n",
    "                keras.layers.Dense(units=1)\n",
    "])"
   ]
  },
  {
   "cell_type": "code",
   "execution_count": 36,
   "metadata": {
    "id": "cfNflTfsG8-h"
   },
   "outputs": [],
   "source": [
    "nn_model.compile(optimizer='rmsprop', loss='mse', metrics=['mse'])"
   ]
  },
  {
   "cell_type": "code",
   "execution_count": 37,
   "metadata": {
    "colab": {
     "base_uri": "https://localhost:8080/",
     "height": 538
    },
    "id": "gFcyiwgKHCCn",
    "outputId": "b8799794-c8b4-45c7-c3d4-858bb7d0dd8a"
   },
   "outputs": [
    {
     "name": "stdout",
     "output_type": "stream",
     "text": [
      "MSE :  101372305.13382615\n",
      "R^2 :  0.010702747605811247\n"
     ]
    },
    {
     "data": {
      "image/png": "[encoded data removed]",
      "text/plain": [
       "<Figure size 1152x576 with 1 Axes>"
      ]
     },
     "metadata": {
      "needs_background": "light"
     },
     "output_type": "display_data"
    }
   ],
   "source": [
    "nn_model.fit(X_train, y_train, epochs=300, verbose=0)\n",
    "evaluate(X_val, y_val, nn_model)"
   ]
  },
  {
   "cell_type": "markdown",
   "metadata": {
    "id": "V1ZhyVCaIQDw"
   },
   "source": [
    "Save model"
   ]
  },
  {
   "cell_type": "code",
   "execution_count": 38,
   "metadata": {
    "colab": {
     "base_uri": "https://localhost:8080/"
    },
    "id": "VJQR-ivUIRhY",
    "outputId": "9b23c426-41f4-469f-b011-9fe84c83e1e0"
   },
   "outputs": [
    {
     "data": {
      "text/plain": [
       "['ml_model.pkl']"
      ]
     },
     "execution_count": 38,
     "metadata": {},
     "output_type": "execute_result"
    }
   ],
   "source": [
    "joblib.dump(rf_random.best_estimator_, \"ml_model.pkl\")"
   ]
  },
  {
   "cell_type": "code",
   "execution_count": 39,
   "metadata": {
    "id": "EPuz8hhaIVVP"
   },
   "outputs": [],
   "source": [
    "nn_model.save('nn_model.h5')"
   ]
  },
  {
   "cell_type": "markdown",
   "metadata": {
    "id": "w0kA-nD3IbrU"
   },
   "source": [
    "Load model"
   ]
  },
  {
   "cell_type": "code",
   "execution_count": 40,
   "metadata": {
    "id": "-a6L6ISUIc3P"
   },
   "outputs": [],
   "source": [
    "model = joblib.load('ml_model.pkl')"
   ]
  },
  {
   "cell_type": "code",
   "execution_count": 41,
   "metadata": {
    "id": "vgOpk1J3InW2"
   },
   "outputs": [],
   "source": [
    "model = keras.models.load_model('nn_model.h5')"
   ]
  },
  {
   "cell_type": "code",
   "execution_count": 46,
   "metadata": {
    "id": "JJvKdakCIscJ"
   },
   "outputs": [],
   "source": [
    "preds = model.predict(test)\n",
    "preds = preds.astype(np.int16)"
   ]
  },
  {
   "cell_type": "code",
   "execution_count": 47,
   "metadata": {
    "id": "1KKQZk7GIw8Y"
   },
   "outputs": [],
   "source": [
    "preds = preds.reshape(1, -1)[0].tolist()\n",
    "d = {'adview': preds}\n",
    "pd.DataFrame(d).to_csv('predictions.csv', index=False)"
   ]
  }
 ],
 "metadata": {
  "accelerator": "GPU",
  "colab": {
   "name": "youtbe-adview-prediction.ipynb",
   "provenance": []
  },
  "kernelspec": {
   "display_name": "Python 3",
   "language": "python",
   "name": "python3"
  },
  "language_info": {
   "codemirror_mode": {
    "name": "ipython",
    "version": 3
   },
   "file_extension": ".py",
   "mimetype": "text/x-python",
   "name": "python",
   "nbconvert_exporter": "python",
   "pygments_lexer": "ipython3",
   "version": "3.9.5"
  }
 },
 "nbformat": 4,
 "nbformat_minor": 1
}
